{
  "cells": [
    {
      "cell_type": "markdown",
      "metadata": {
        "id": "view-in-github",
        "colab_type": "text"
      },
      "source": [
        "<a href=\"https://colab.research.google.com/github/vannessa01/Python_Programming/blob/main/make_a_circle_calculator_formula.ipynb\" target=\"_parent\"><img src=\"https://colab.research.google.com/assets/colab-badge.svg\" alt=\"Open In Colab\"/></a>"
      ]
    },
    {
      "cell_type": "code",
      "execution_count": null,
      "id": "d88da47e-dcf4-4c23-883e-729916273675",
      "metadata": {
        "id": "d88da47e-dcf4-4c23-883e-729916273675"
      },
      "outputs": [],
      "source": [
        "#No 8\n",
        "def perhitungan_lingkaran(r, metode):\n",
        "    '''\n",
        "    r adalah integer\n",
        "    r adalah jari-jari lingkaran\n",
        "    dalam module perhitungan lingkaran terdapat 3 metode\n",
        "    \n",
        "    metode pertama menghitung diameter lingkaran dengan mengalikan jari-jari dengan 2\n",
        "    metode kedua menghitung luas lingkaran dengan mengalikan phi(3.14) dengan jari-jari dengan jari-jari\n",
        "    metode ketiga menghitung keliling lingkaran dengan mengalikan phi dengan 2 kali jari-jari\n",
        "    \n",
        "    '''\n",
        "    try:\n",
        "        if metode == 'diameter':\n",
        "            hasil = 2*r\n",
        "            return 'diameternya adalah', hasil\n",
        "        elif metode == 'luas':\n",
        "            hasil = 3.14*r*r\n",
        "            return 'luasnya adalah', hasil\n",
        "        elif metode == 'keliling':\n",
        "            hasil = 3.14*2*r\n",
        "            return 'kelilingnya adalah', hasil\n",
        "        else:\n",
        "            raise TypeError\n",
        "    except TypeError:\n",
        "            return(\"Invalid, rumus must be ('luas','keliling','diameter')\")\n",
        "        "
      ]
    },
    {
      "cell_type": "code",
      "execution_count": null,
      "id": "12566e02-6bfe-4ee2-8245-36626b719b55",
      "metadata": {
        "id": "12566e02-6bfe-4ee2-8245-36626b719b55"
      },
      "outputs": [],
      "source": [
        ""
      ]
    }
  ],
  "metadata": {
    "kernelspec": {
      "display_name": "Python 3 (ipykernel)",
      "language": "python",
      "name": "python3"
    },
    "language_info": {
      "codemirror_mode": {
        "name": "ipython",
        "version": 3
      },
      "file_extension": ".py",
      "mimetype": "text/x-python",
      "name": "python",
      "nbconvert_exporter": "python",
      "pygments_lexer": "ipython3",
      "version": "3.9.7"
    },
    "colab": {
      "name": "make_a_circle_calculator_formula.ipynb",
      "provenance": [],
      "include_colab_link": true
    }
  },
  "nbformat": 4,
  "nbformat_minor": 5
}