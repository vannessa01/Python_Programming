{
  "cells": [
    {
      "cell_type": "markdown",
      "metadata": {
        "id": "view-in-github",
        "colab_type": "text"
      },
      "source": [
        "<a href=\"https://colab.research.google.com/github/vannessa01/Python_Programming/blob/main/circle_calculator_module_test.ipynb\" target=\"_parent\"><img src=\"https://colab.research.google.com/assets/colab-badge.svg\" alt=\"Open In Colab\"/></a>"
      ]
    },
    {
      "cell_type": "code",
      "execution_count": null,
      "id": "f584d276-d1ea-4325-a5ca-9017e2e24143",
      "metadata": {
        "id": "f584d276-d1ea-4325-a5ca-9017e2e24143"
      },
      "outputs": [],
      "source": [
        "import perhitungan_lingkaran as pl"
      ]
    },
    {
      "cell_type": "code",
      "execution_count": null,
      "id": "4dc8c5f4-ace6-4c9e-bcbd-4621e5fdbacb",
      "metadata": {
        "id": "4dc8c5f4-ace6-4c9e-bcbd-4621e5fdbacb",
        "outputId": "bc01e059-43b7-4a66-90c1-22bab5918104"
      },
      "outputs": [
        {
          "data": {
            "text/plain": [
              "('diameternya adalah', 14)"
            ]
          },
          "execution_count": 13,
          "metadata": {},
          "output_type": "execute_result"
        }
      ],
      "source": [
        "diameter = pl.rumus_lingkaran(7, 'diameter')\n",
        "diameter"
      ]
    },
    {
      "cell_type": "code",
      "execution_count": null,
      "id": "8a925d24-60c7-45d0-ac57-2c8385ee44d4",
      "metadata": {
        "id": "8a925d24-60c7-45d0-ac57-2c8385ee44d4",
        "outputId": "0007198b-36ed-491c-ca70-e287792df8d1"
      },
      "outputs": [
        {
          "data": {
            "text/plain": [
              "('luasnya adalah', 153.86)"
            ]
          },
          "execution_count": 14,
          "metadata": {},
          "output_type": "execute_result"
        }
      ],
      "source": [
        "luas = pl.rumus_lingkaran(7, 'luas')\n",
        "luas"
      ]
    },
    {
      "cell_type": "code",
      "execution_count": null,
      "id": "378da321-543d-4828-98f4-7dcfa475b6a6",
      "metadata": {
        "id": "378da321-543d-4828-98f4-7dcfa475b6a6",
        "outputId": "cd81b955-4dba-479b-f5fd-fd95b9723269"
      },
      "outputs": [
        {
          "data": {
            "text/plain": [
              "('kelilingnya adalah', 43.96)"
            ]
          },
          "execution_count": 15,
          "metadata": {},
          "output_type": "execute_result"
        }
      ],
      "source": [
        "keliling = pl.rumus_lingkaran(7, 'keliling')\n",
        "keliling"
      ]
    }
  ],
  "metadata": {
    "kernelspec": {
      "display_name": "Python 3 (ipykernel)",
      "language": "python",
      "name": "python3"
    },
    "language_info": {
      "codemirror_mode": {
        "name": "ipython",
        "version": 3
      },
      "file_extension": ".py",
      "mimetype": "text/x-python",
      "name": "python",
      "nbconvert_exporter": "python",
      "pygments_lexer": "ipython3",
      "version": "3.9.7"
    },
    "colab": {
      "name": "circle_calculator_module_test.ipynb",
      "provenance": [],
      "include_colab_link": true
    }
  },
  "nbformat": 4,
  "nbformat_minor": 5
}